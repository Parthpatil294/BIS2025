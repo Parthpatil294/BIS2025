{
  "nbformat": 4,
  "nbformat_minor": 0,
  "metadata": {
    "colab": {
      "provenance": [],
      "authorship_tag": "ABX9TyPCgZMfmCskSThvOfLTwxQV",
      "include_colab_link": true
    },
    "kernelspec": {
      "name": "python3",
      "display_name": "Python 3"
    },
    "language_info": {
      "name": "python"
    }
  },
  "cells": [
    {
      "cell_type": "markdown",
      "metadata": {
        "id": "view-in-github",
        "colab_type": "text"
      },
      "source": [
        "<a href=\"https://colab.research.google.com/github/Parthpatil294/BIS2025/blob/main/week1.ipynb\" target=\"_parent\"><img src=\"https://colab.research.google.com/assets/colab-badge.svg\" alt=\"Open In Colab\"/></a>"
      ]
    },
    {
      "cell_type": "code",
      "execution_count": 2,
      "metadata": {
        "colab": {
          "base_uri": "https://localhost:8080/"
        },
        "id": "ov4TiJ1JGQ2B",
        "outputId": "25ce1ca6-3bf7-4d30-fd7e-2349e3b98ee3"
      },
      "outputs": [
        {
          "output_type": "stream",
          "name": "stdout",
          "text": [
            "Enter number of resources: 3\n",
            "Enter number of tasks: 3\n",
            "Enter the benefit matrix (rows = resources, columns = tasks):\n",
            "Enter benefits for Resource 1: 10 5 8\n",
            "Enter benefits for Resource 2: 7 12 6\n",
            "Enter benefits for Resource 3: 4 9 11\n",
            "\n",
            "=== BEST SOLUTION FOUND ===\n",
            "Allocation (Task indices): [0, 1, 2]\n",
            "Maximum Profit: 33\n"
          ]
        }
      ],
      "source": [
        "import random\n",
        "\n",
        "def fitness(chromosome, benefit_matrix):\n",
        "    return sum(benefit_matrix[i][chromosome[i]] for i in range(len(chromosome)))\n",
        "\n",
        "def initialize_population(size, num_resources, num_tasks):\n",
        "    return [[random.randint(0, num_tasks-1) for _ in range(num_resources)] for _ in range(size)]\n",
        "\n",
        "def selection(population, fits):\n",
        "    probs = [f/sum(fits) for f in fits]\n",
        "    return random.choices(population, weights=probs, k=len(population))\n",
        "\n",
        "def crossover(p1, p2):\n",
        "    if random.random() < 0.8:\n",
        "        cp = random.randint(1, len(p1)-1)\n",
        "        return p1[:cp] + p2[cp:], p2[:cp] + p1[cp:]\n",
        "    return p1, p2\n",
        "\n",
        "def mutation(chromosome, num_tasks, rate=0.1):\n",
        "    for i in range(len(chromosome)):\n",
        "        if random.random() < rate:\n",
        "            chromosome[i] = random.randint(0, num_tasks-1)\n",
        "    return chromosome\n",
        "\n",
        "# ==== Main Execution ====\n",
        "num_resources = int(input(\"Enter number of resources: \"))\n",
        "num_tasks = int(input(\"Enter number of tasks: \"))\n",
        "\n",
        "print(\"Enter the benefit matrix (rows = resources, columns = tasks):\")\n",
        "benefit_matrix = []\n",
        "for i in range(num_resources):\n",
        "    row = list(map(int, input(f\"Enter benefits for Resource {i+1}: \").split()))\n",
        "    benefit_matrix.append(row)\n",
        "\n",
        "population_size = 6\n",
        "generations = 10\n",
        "population = initialize_population(population_size, num_resources, num_tasks)\n",
        "\n",
        "best_solution = None\n",
        "\n",
        "for g in range(generations):\n",
        "    fits = [fitness(ch, benefit_matrix) for ch in population]\n",
        "\n",
        "    # Track best solution\n",
        "    max_fit = max(fits)\n",
        "    if best_solution is None or max_fit > best_solution[1]:\n",
        "        best_solution = (population[fits.index(max_fit)], max_fit)\n",
        "\n",
        "    # Selection\n",
        "    selected = selection(population, fits)\n",
        "\n",
        "    # Crossover\n",
        "    offspring = []\n",
        "    for i in range(0, len(selected), 2):\n",
        "        o1, o2 = crossover(selected[i], selected[(i+1) % len(selected)])\n",
        "        offspring.extend([o1, o2])\n",
        "\n",
        "    # Mutation\n",
        "    population = [mutation(ch, num_tasks) for ch in offspring]\n",
        "\n",
        "print(\"\\n=== BEST SOLUTION FOUND ===\")\n",
        "print(\"Allocation (Task indices):\", best_solution[0])\n",
        "print(\"Maximum Profit:\", best_solution[1])\n"
      ]
    }
  ]
}
