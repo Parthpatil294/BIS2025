{
  "nbformat": 4,
  "nbformat_minor": 0,
  "metadata": {
    "colab": {
      "provenance": [],
      "authorship_tag": "ABX9TyMMFkDQ2buV4iGArqCDTFSW",
      "include_colab_link": true
    },
    "kernelspec": {
      "name": "python3",
      "display_name": "Python 3"
    },
    "language_info": {
      "name": "python"
    }
  },
  "cells": [
    {
      "cell_type": "markdown",
      "metadata": {
        "id": "view-in-github",
        "colab_type": "text"
      },
      "source": [
        "<a href=\"https://colab.research.google.com/github/Parthpatil294/BIS2025/blob/main/weekalgo2.ipynb\" target=\"_parent\"><img src=\"https://colab.research.google.com/assets/colab-badge.svg\" alt=\"Open In Colab\"/></a>"
      ]
    },
    {
      "cell_type": "code",
      "execution_count": 1,
      "metadata": {
        "colab": {
          "base_uri": "https://localhost:8080/"
        },
        "id": "reLgnfK3Iu0y",
        "outputId": "619ff3ba-c7e1-44ba-9d0b-a5cf6f654460"
      },
      "outputs": [
        {
          "output_type": "stream",
          "name": "stdout",
          "text": [
            "Iteration 1: Global Best Position = [ 3.18835856 -1.33762501], Value = 11.95487\n",
            "Iteration 2: Global Best Position = [ 1.44701487 -0.01466397], Value = 2.09407\n",
            "Iteration 3: Global Best Position = [0.3497142  0.96947919], Value = 1.06219\n",
            "Iteration 4: Global Best Position = [-0.4569689   0.40704399], Value = 0.37451\n",
            "Iteration 5: Global Best Position = [-0.44698333 -0.18091086], Value = 0.23252\n",
            "Iteration 6: Global Best Position = [-0.3416638 -0.3340274], Value = 0.22831\n",
            "Iteration 7: Global Best Position = [-0.3416638 -0.3340274], Value = 0.22831\n",
            "Iteration 8: Global Best Position = [-0.04192496 -0.43396362], Value = 0.19008\n",
            "Iteration 9: Global Best Position = [-0.35263733 -0.25257961], Value = 0.18815\n",
            "Iteration 10: Global Best Position = [ 0.26581491 -0.17083324], Value = 0.09984\n",
            "Iteration 11: Global Best Position = [ 0.00541713 -0.13563827], Value = 0.01843\n",
            "Iteration 12: Global Best Position = [ 0.00541713 -0.13563827], Value = 0.01843\n",
            "Iteration 13: Global Best Position = [-0.04056447 -0.03491471], Value = 0.00286\n",
            "Iteration 14: Global Best Position = [-0.04056447 -0.03491471], Value = 0.00286\n",
            "Iteration 15: Global Best Position = [0.01866493 0.01390043], Value = 0.00054\n",
            "Iteration 16: Global Best Position = [0.01866493 0.01390043], Value = 0.00054\n",
            "Iteration 17: Global Best Position = [ 0.00730495 -0.00691323], Value = 0.00010\n",
            "Iteration 18: Global Best Position = [ 0.00730495 -0.00691323], Value = 0.00010\n",
            "Iteration 19: Global Best Position = [ 0.00730495 -0.00691323], Value = 0.00010\n",
            "Iteration 20: Global Best Position = [ 0.00730495 -0.00691323], Value = 0.00010\n",
            "Iteration 21: Global Best Position = [ 0.00730495 -0.00691323], Value = 0.00010\n",
            "Iteration 22: Global Best Position = [ 0.00730495 -0.00691323], Value = 0.00010\n",
            "Iteration 23: Global Best Position = [ 0.00846619 -0.00454026], Value = 0.00009\n",
            "Iteration 24: Global Best Position = [-0.00054382 -0.00920485], Value = 0.00009\n",
            "Iteration 25: Global Best Position = [ 0.00490678 -0.00234943], Value = 0.00003\n",
            "Iteration 26: Global Best Position = [ 0.00230252 -0.00186122], Value = 0.00001\n",
            "Iteration 27: Global Best Position = [ 0.00100038 -0.00161711], Value = 0.00000\n",
            "Iteration 28: Global Best Position = [0.00149012 0.000168  ], Value = 0.00000\n",
            "Iteration 29: Global Best Position = [7.80014627e-04 4.99565382e-06], Value = 0.00000\n",
            "Iteration 30: Global Best Position = [-0.00020862  0.00017153], Value = 0.00000\n",
            "\n",
            "✅ Final Result:\n",
            "Best Position: [-0.00020862  0.00017153]\n",
            "Best Value: 0.00000\n"
          ]
        }
      ],
      "source": [
        "import numpy as np\n",
        "\n",
        "# Objective function: f(x, y) = x^2 + y^2\n",
        "def objective_function(position):\n",
        "    return position[0]**2 + position[1]**2\n",
        "\n",
        "# PSO Parameters\n",
        "num_particles = 5\n",
        "num_iterations = 30\n",
        "w = 0.5       # Inertia weight\n",
        "c1 = 1.5      # Cognitive (particle)\n",
        "c2 = 1.5      # Social (swarm)\n",
        "\n",
        "# Initialize particles\n",
        "particles = []\n",
        "for _ in range(num_particles):\n",
        "    position = np.random.uniform(-10, 10, 2)   # 2D position\n",
        "    velocity = np.random.uniform(-1, 1, 2)     # 2D velocity\n",
        "    particles.append({\n",
        "        \"position\": position,\n",
        "        \"velocity\": velocity,\n",
        "        \"pbest_pos\": position.copy(),\n",
        "        \"pbest_val\": objective_function(position)\n",
        "    })\n",
        "\n",
        "# Initialize global best\n",
        "gbest_pos = min(particles, key=lambda p: p[\"pbest_val\"])[\"pbest_pos\"].copy()\n",
        "gbest_val = objective_function(gbest_pos)\n",
        "\n",
        "# Main PSO loop\n",
        "for iteration in range(num_iterations):\n",
        "    for particle in particles:\n",
        "        r1, r2 = np.random.rand(2)\n",
        "\n",
        "        # Update velocity\n",
        "        cognitive = c1 * r1 * (particle[\"pbest_pos\"] - particle[\"position\"])\n",
        "        social = c2 * r2 * (gbest_pos - particle[\"position\"])\n",
        "        particle[\"velocity\"] = w * particle[\"velocity\"] + cognitive + social\n",
        "\n",
        "        # Update position\n",
        "        particle[\"position\"] += particle[\"velocity\"]\n",
        "\n",
        "        # Evaluate fitness\n",
        "        fitness = objective_function(particle[\"position\"])\n",
        "\n",
        "        # Update personal best\n",
        "        if fitness < particle[\"pbest_val\"]:\n",
        "            particle[\"pbest_pos\"] = particle[\"position\"].copy()\n",
        "            particle[\"pbest_val\"] = fitness\n",
        "\n",
        "        # Update global best\n",
        "        if fitness < gbest_val:\n",
        "            gbest_pos = particle[\"position\"].copy()\n",
        "            gbest_val = fitness\n",
        "\n",
        "    print(f\"Iteration {iteration+1}: Global Best Position = {gbest_pos}, Value = {gbest_val:.5f}\")\n",
        "\n",
        "print(\"\\n✅ Final Result:\")\n",
        "print(f\"Best Position: {gbest_pos}\")\n",
        "print(f\"Best Value: {gbest_val:.5f}\")\n"
      ]
    }
  ]
}